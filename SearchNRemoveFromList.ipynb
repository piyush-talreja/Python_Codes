{
 "cells": [
  {
   "cell_type": "markdown",
   "metadata": {},
   "source": [
    "## Search and Remove from List "
   ]
  },
  {
   "cell_type": "code",
   "execution_count": 5,
   "metadata": {},
   "outputs": [],
   "source": [
    "list = [\"piyush\",\"pratik\",\"yash\",\"shreya\"]"
   ]
  },
  {
   "cell_type": "code",
   "execution_count": 6,
   "metadata": {},
   "outputs": [
    {
     "name": "stdout",
     "output_type": "stream",
     "text": [
      "Enter a name to search..shreya\n",
      "Name : shreya found in list\n",
      "Removing the entry...\n",
      "Updated list :  ['piyush', 'pratik', 'yash']\n"
     ]
    }
   ],
   "source": [
    "name = input(\"Enter a name to search..\")\n",
    "\n",
    "\n",
    "if name in list:\n",
    "    print(f\"Name : {name} found in list\")\n",
    "    print(\"Removing the entry...\")\n",
    "    list.remove(name)\n",
    "    \n",
    "print(\"Updated list : \",list)"
   ]
  },
  {
   "cell_type": "code",
   "execution_count": null,
   "metadata": {},
   "outputs": [],
   "source": []
  }
 ],
 "metadata": {
  "kernelspec": {
   "display_name": "Python 3",
   "language": "python",
   "name": "python3"
  },
  "language_info": {
   "codemirror_mode": {
    "name": "ipython",
    "version": 3
   },
   "file_extension": ".py",
   "mimetype": "text/x-python",
   "name": "python",
   "nbconvert_exporter": "python",
   "pygments_lexer": "ipython3",
   "version": "3.7.1"
  }
 },
 "nbformat": 4,
 "nbformat_minor": 2
}
